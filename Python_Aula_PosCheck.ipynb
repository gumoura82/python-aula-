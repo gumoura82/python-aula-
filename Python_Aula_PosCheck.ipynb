{
 "cells": [
  {
   "cell_type": "code",
   "execution_count": 4,
   "metadata": {},
   "outputs": [
    {
     "name": "stdout",
     "output_type": "stream",
     "text": [
      "a área do número é = 314.15000000000003\n"
     ]
    }
   ],
   "source": [
    "#Exercício 01\n",
    "\n",
    "raio = 10\n",
    "\n",
    "area = 3.1415 * (raio ** 2)\n",
    "\n",
    "print(\"a área do número é\", area)"
   ]
  },
  {
   "cell_type": "code",
   "execution_count": 6,
   "metadata": {},
   "outputs": [
    {
     "name": "stdout",
     "output_type": "stream",
     "text": [
      "A área do número é = 153.9335\n"
     ]
    }
   ],
   "source": [
    "# Continuação\n",
    "\n",
    "raio = float(input(\"Digite o valor do raio\"))\n",
    "\n",
    "area = 3.1415 * (raio ** 2)\n",
    "\n",
    "print (\"A área do número é\", area)"
   ]
  },
  {
   "cell_type": "code",
   "execution_count": 10,
   "metadata": {},
   "outputs": [
    {
     "name": "stdout",
     "output_type": "stream",
     "text": [
      "FIAP\n"
     ]
    }
   ],
   "source": [
    "#Exercício 2\n",
    "                                       \n",
    "Var1 = 'F'\n",
    "Var2 = 'I'\n",
    "Var3 = 'A'\n",
    "Var4 = 'P'\n",
    "\n",
    "Var_total = Var1 + Var2 + Var3 + Var4 \n",
    "\n",
    "print(Var_total)"
   ]
  },
  {
   "cell_type": "code",
   "execution_count": 11,
   "metadata": {},
   "outputs": [
    {
     "name": "stdout",
     "output_type": "stream",
     "text": [
      "O valor é 20.0\n"
     ]
    }
   ],
   "source": [
    "#Exercício 3\n",
    "\n",
    "valorInserido = float(input(\"Digite o valor\"))\n",
    "\n",
    "resultado = 2 * valorInserido + 10\n",
    "\n",
    "print(\"O valor é\", resultado)"
   ]
  },
  {
   "cell_type": "code",
   "execution_count": 12,
   "metadata": {},
   "outputs": [
    {
     "name": "stdout",
     "output_type": "stream",
     "text": [
      "O valor é 20.0\n"
     ]
    }
   ],
   "source": [
    "#Exercício 4\n",
    "\n",
    "valorInserido = float(input(\"Digite o valor\"))\n",
    "\n",
    "resultado = 25 * valorInserido - 5\n",
    "\n",
    "print(\"O valor é\", resultado)"
   ]
  },
  {
   "cell_type": "code",
   "execution_count": 18,
   "metadata": {},
   "outputs": [
    {
     "name": "stdout",
     "output_type": "stream",
     "text": [
      "O valor é 4050.0\n"
     ]
    }
   ],
   "source": [
    "#Exercício 5\n",
    "\n",
    "valorInserido = float(input(\"Digite o valor\"))\n",
    "\n",
    "resultado = 10 * valorInserido** 2 + 2 * valorInserido + 10\n",
    "\n",
    "print(\"O valor é\", resultado)"
   ]
  },
  {
   "cell_type": "code",
   "execution_count": 24,
   "metadata": {},
   "outputs": [
    {
     "name": "stdout",
     "output_type": "stream",
     "text": [
      "O valor total em segundos é 3600.0\n"
     ]
    }
   ],
   "source": [
    "#Exercício 6\n",
    "\n",
    "dias = float(input(\"Insira o valor em dias:\"))\n",
    "horas= float(input(\"Insira o valor em horas:\"))\n",
    "minutos = float(input(\"Insira o valor em minutos:\"))\n",
    "segundos = float(input(\"Insira o valor em segundos:\"))\n",
    "\n",
    "valorTotalEmSegundos = (dias * 86400) + (horas * 3600) + (minutos * 60 ) + segundos\n",
    "\n",
    "print (\"O valor total em segundos é\", valorTotalEmSegundos)"
   ]
  },
  {
   "cell_type": "code",
   "execution_count": 32,
   "metadata": {},
   "outputs": [
    {
     "name": "stdout",
     "output_type": "stream",
     "text": [
      "Insira dois números entre V - I - R\n",
      "O valor de P = R * I * I é igual à 294.0\n"
     ]
    }
   ],
   "source": [
    "#Exercício 7\n",
    "\n",
    "print('Insira dois números entre V - I - R')\n",
    "\n",
    "tensãoV = float(input(\"Insira o valor de V(Tensão)\"))\n",
    "resistenciaR = float(input(\"Insira o valor de R(Resistênia)\"))\n",
    "correnteI = float(input(\"Insira o valor de I(Corrente)\"))\n",
    "\n",
    "if (tensãoV == 0):\n",
    "    RandI = resistenciaR * correnteI * correnteI\n",
    "    print (\"O valor de P = R * I * I é igual à\", RandI)\n",
    "elif (correnteI == 0):\n",
    "    VandR = tensãoV** 2 / resistenciaR \n",
    "    print (\"O valor de P = V * I é igual à\", VandR) \n",
    "else:\n",
    "    VandI = tensãoV * correnteI\n",
    "    print (\"O valor de P = V * I é igual à\", VandI)"
   ]
  },
  {
   "cell_type": "code",
   "execution_count": 2,
   "metadata": {},
   "outputs": [
    {
     "name": "stdout",
     "output_type": "stream",
     "text": [
      "O total para se pagar é 60.15\n"
     ]
    }
   ],
   "source": [
    "#Exercício 8\n",
    "\n",
    "quantidadeDeKm = float(input('Coloque a quantidade de KM percorridos:'))\n",
    "quantidadeDeDias = float(input('Coloque a quantidade de dias:'))\n",
    "\n",
    "resultadoPagar = (quantidadeDeKm * 0.15) + (quantidadeDeDias * 60)\n",
    "\n",
    "print('O total para se pagar é', resultadoPagar)"
   ]
  },
  {
   "cell_type": "code",
   "execution_count": null,
   "metadata": {},
   "outputs": [
    {
     "name": "stdout",
     "output_type": "stream",
     "text": [
      "Seu IMC é 29.745808545159548\n"
     ]
    }
   ],
   "source": [
    "#Exercício 9\n",
    "\n",
    "pesoKG = float(input('Insira seu peso em KG'))\n",
    "alturaM = float(input('Insira sua altura'))\n",
    "\n",
    "iMC = pesoKG / alturaM**2\n",
    "\n",
    "print('Seu IMC é', iMC)"
   ]
  },
  {
   "cell_type": "code",
   "execution_count": 4,
   "metadata": {},
   "outputs": [
    {
     "name": "stdout",
     "output_type": "stream",
     "text": [
      "86.0\n"
     ]
    }
   ],
   "source": [
    "#Exercício 10\n",
    "\n",
    "celsius = float(input(\"Coloque a temperatura em Celsius\"))\n",
    "\n",
    "fahrenhelt = (9 * celsius / 5) + 32\n",
    "\n",
    "print(fahrenhelt)"
   ]
  },
  {
   "cell_type": "code",
   "execution_count": 30,
   "metadata": {},
   "outputs": [],
   "source": [
    "from sympy import* \n",
    "x = Symbol ('x')"
   ]
  },
  {
   "cell_type": "code",
   "execution_count": 36,
   "metadata": {},
   "outputs": [
    {
     "data": {
      "text/latex": [
       "$\\displaystyle x^{2} + 10 x + 10$"
      ],
      "text/plain": [
       "x**2 + 10*x + 10"
      ]
     },
     "execution_count": 36,
     "metadata": {},
     "output_type": "execute_result"
    }
   ],
   "source": [
    "x**2 + 10*x + 10"
   ]
  },
  {
   "cell_type": "code",
   "execution_count": 35,
   "metadata": {},
   "outputs": [
    {
     "data": {
      "text/latex": [
       "$\\displaystyle \\frac{x^{3}}{3}$"
      ],
      "text/plain": [
       "x**3/3"
      ]
     },
     "execution_count": 35,
     "metadata": {},
     "output_type": "execute_result"
    }
   ],
   "source": [
    "Integral(x**2).doit()"
   ]
  },
  {
   "cell_type": "code",
   "execution_count": 37,
   "metadata": {},
   "outputs": [],
   "source": [
    "from sympy.plotting import *"
   ]
  },
  {
   "cell_type": "code",
   "execution_count": 38,
   "metadata": {},
   "outputs": [
    {
     "name": "stdout",
     "output_type": "stream",
     "text": [
      "    100 |\\                                                     /\n",
      "        | .                                                   . \n",
      "        |                                                       \n",
      "        |  .                                                 .  \n",
      "        |   \\                                               /   \n",
      "        |    .                                             .    \n",
      "        |                                                       \n",
      "        |     .                                           .     \n",
      "        |      \\                                         /      \n",
      "        |       \\                                       /       \n",
      "     50 |--------\\-------------------------------------/--------\n",
      "        |         \\                                   /         \n",
      "        |          \\                                 /          \n",
      "        |           \\                               /           \n",
      "        |            \\                             /            \n",
      "        |             ..                         ..             \n",
      "        |               \\                       /               \n",
      "        |                ..                   ..                \n",
      "        |                  ..               ..                  \n",
      "        |                    ...         ...                    \n",
      "      0 |_______________________________________________________\n",
      "         -10                        0                          10\n"
     ]
    },
    {
     "data": {
      "text/plain": [
       "<sympy.plotting.plot.Plot at 0x1ff52c0a390>"
      ]
     },
     "execution_count": 38,
     "metadata": {},
     "output_type": "execute_result"
    }
   ],
   "source": [
    "plot(x**2)"
   ]
  },
  {
   "cell_type": "code",
   "execution_count": 75,
   "metadata": {},
   "outputs": [
    {
     "name": "stdout",
     "output_type": "stream",
     "text": [
      "Meu nome é gustavp ,tenho 18 anos e moro na cidade de sodadddaqda\n"
     ]
    },
    {
     "data": {
      "text/plain": [
       "'Meu nome é gustavp, tenho 18 anos e moro na cidade de sodadddaqda'"
      ]
     },
     "execution_count": 75,
     "metadata": {},
     "output_type": "execute_result"
    }
   ],
   "source": [
    "nome = (input(\"Coloque seu nome:\"))\n",
    "idade = int(input(\"Coloque sua idade:\"))\n",
    "cidade = (input(\"Coloque sua cidade:\"))\n",
    "\n",
    "print(\"Meu nome é\", nome,\",tenho\", idade ,\"anos e moro na cidade de\", cidade)\n",
    "\"Meu nome é %s, tenho %d anos e moro na cidade de %s\" % (nome, idade, cidade)"
   ]
  },
  {
   "cell_type": "code",
   "execution_count": 86,
   "metadata": {},
   "outputs": [
    {
     "data": {
      "text/plain": [
       "'João tem 022 anos e R$51.34 no bolso.'"
      ]
     },
     "execution_count": 86,
     "metadata": {},
     "output_type": "execute_result"
    }
   ],
   "source": [
    "grana = 51.34\n",
    "idade = 22\n",
    "nome = \"João\"\n",
    "\n",
    "\"%s tem %03d anos e R$%5.2f no bolso.\" %(nome, idade, grana)"
   ]
  },
  {
   "cell_type": "code",
   "execution_count": 87,
   "metadata": {},
   "outputs": [
    {
     "name": "stdout",
     "output_type": "stream",
     "text": [
      "João tem 22 anos e 51.34 no bolso\n"
     ]
    }
   ],
   "source": [
    "grana = 51.34\n",
    "idade = 22\n",
    "nome = \"João\"\n",
    "\n",
    "print(f\"{nome} tem {idade} anos e {grana} no bolso\")"
   ]
  },
  {
   "cell_type": "code",
   "execution_count": 100,
   "metadata": {},
   "outputs": [
    {
     "name": "stdout",
     "output_type": "stream",
     "text": [
      "Gustavo Oliveira Moura\n"
     ]
    }
   ],
   "source": [
    "nome = input(\"Coloque seu nome\")\n",
    "sobrenome = input(\"Coloque seu sobrenome\")\n",
    "sobrenome2 = input(\"Coloque seu segundo sobrenome\")\n",
    "\n",
    "print(f\"{nome.capitalize()} {sobrenome.capitalize()} {sobrenome2.capitalize()}\")\n",
    "\n",
    "#capitalaze \n",
    "# nome[0] - f\n",
    "# nome[0].upper() - F\n",
    "# nome[1:]"
   ]
  },
  {
   "cell_type": "code",
   "execution_count": 108,
   "metadata": {},
   "outputs": [
    {
     "name": "stdout",
     "output_type": "stream",
     "text": [
      "Gustavo Oliveira Moura 52722297892 Sao paulo\n"
     ]
    }
   ],
   "source": [
    "nome = input(\"Coloque seu nome\")\n",
    "sobrenome = input(\"Coloque seu sobrenome\")\n",
    "sobrenome2 = input(\"Coloque seu segundo sobrenome\")\n",
    "cpf = (input(\"Coloque seu CPF\"))\n",
    "cidade = input(\"Coloque sua cidade\")\n",
    "\n",
    "cpf1 = cpf[:11]\n",
    "\n",
    "print(f\"{nome.capitalize()} {sobrenome.capitalize()} {sobrenome2.capitalize()} {cpf1} {cidade.capitalize()}\")"
   ]
  },
  {
   "cell_type": "code",
   "execution_count": 14,
   "metadata": {},
   "outputs": [
    {
     "name": "stdout",
     "output_type": "stream",
     "text": [
      "Ta errado sua senha\n"
     ]
    }
   ],
   "source": [
    "email = input('Coloque seu email')\n",
    "\n",
    "if email.lower() in [\"gumoura82\"]:\n",
    "    senha = input(\"Coloque sua senha\")\n",
    "    if senha.lower() in [\"manteiga\"]:\n",
    "       cod = input(\"Coloque seu codigo\")\n",
    "       if cod.lower() in [\"1122\"]:\n",
    "           print('Parabens voce tem seu acesso')\n",
    "       else:\n",
    "         print(\"Ta errado seu cod\")\n",
    "    else:\n",
    "        print(\"Ta errado sua senha\")\n",
    "else:\n",
    "    print(\"Ta errado seu email\")"
   ]
  },
  {
   "cell_type": "code",
   "execution_count": 5,
   "metadata": {},
   "outputs": [
    {
     "name": "stdout",
     "output_type": "stream",
     "text": [
      "Você ganhou com 3 tentativas\n"
     ]
    }
   ],
   "source": [
    "usuario1 = input(\"Coloque a palavra que deseja:\")\n",
    "usuario2 = input(\"Coloque o que você acha que é:\")\n",
    "\n",
    "if (usuario1 != usuario2):\n",
    "    print(\"Você tem 2 tentativas restantes\")\n",
    "    usuario3 = input(\"Coloque o que você acha que é:\")\n",
    "    if (usuario1 != usuario3):\n",
    "        print(\"Você tem 1 tentativas restantes\")\n",
    "        usuario4 = input(\"Coloque o que você acha que é:\")\n",
    "        if(usuario4 != usuario1):\n",
    "            print(\"Você tem 0 tentativas restantes\")\n",
    "        else:\n",
    "            print(\"Você ganhou com 1 tentativas\")\n",
    "    else:\n",
    "        print(\"Você ganhou com 2 tentativas\")\n",
    "else:\n",
    "    print(\"Você ganhou com 3 tentativas\")        "
   ]
  },
  {
   "cell_type": "code",
   "execution_count": 5,
   "metadata": {},
   "outputs": [
    {
     "name": "stdout",
     "output_type": "stream",
     "text": [
      "Erro! Você tem mais 1 tentativa.\n",
      "Bloqueado!\n"
     ]
    }
   ],
   "source": [
    "#Cadastro\n",
    "nome = input(\"Insira seu usuario\").lower()\n",
    "senha = input(\"Insira sua senha\")\n",
    "codigo = input(\"Insira seu codigo\")\n",
    "\n",
    "#Login\n",
    "nome1 = input(\"Insira seu usuario login\")\n",
    "senha2 = input(\"Insira sua senha login\")\n",
    "codigo3 = input(\"Insira seu codigo login\")\n",
    "\n",
    "if (nome != nome1 and senha != senha2 and codigo != codigo3):\n",
    "    print(\"Erro! Você tem mais 1 tentativa.\")\n",
    "    nome1 = input(\"Insira seu usuario login\")\n",
    "    senha2 = input(\"Insira sua senha login\")\n",
    "    codigo3 = input(\"Insira seu codigo login\")\n",
    "    if (nome != nome1 and senha != senha2 and codigo != codigo3):\n",
    "        print(\"Bloqueado!\") \n",
    "    else:\n",
    "        (\"acesso permitido\")\n",
    "else:\n",
    "    (\"acesso permitido\")"
   ]
  },
  {
   "cell_type": "code",
   "execution_count": 17,
   "metadata": {},
   "outputs": [
    {
     "name": "stdout",
     "output_type": "stream",
     "text": [
      "Nome e Número do passaporte verficados\n",
      "Verifique os requisitos do visto para a entrada\n"
     ]
    }
   ],
   "source": [
    "#Dados da Pessoa\n",
    "nome = input(\"Insira seu nome\")\n",
    "nacionaliade = input(\"Insira sua nacionalidade\")\n",
    "numPassaporte = input(\"Insira seu passaporte\")\n",
    "\n",
    "#Validação dos nomes\n",
    "nome1 = input(\"Insira seu nome para a validação\")\n",
    "nacionaliade1 = input(\"Insira sua nacionalidade para a validação\")\n",
    "numPassaporte1 = input(\"Insira seu passaporte para a validação\")\n",
    "\n",
    "if (nome == nome1 and numPassaporte == numPassaporte1):\n",
    "    print(\"Nome e Número do passaporte verficados\")\n",
    "    if nacionaliade.lower() in [\"brasileiro\"]:\n",
    "        print(\"Boas vindas, não é necessario visto\")\n",
    "    else:\n",
    "        print(\"Verifique os requisitos do visto para a entrada\")\n",
    "else:\n",
    "    print(\"Seu nome ou número de passaporte está incorreto\")"
   ]
  },
  {
   "cell_type": "code",
   "execution_count": 19,
   "metadata": {},
   "outputs": [
    {
     "name": "stdout",
     "output_type": "stream",
     "text": [
      "Convertendo moedas...\n",
      "Dolar 0,20 Libras 0,50 Yenes 0,80\n"
     ]
    }
   ],
   "source": [
    "escolhaDamoeda = input(\"Coloque a moeda que deseja converter\")\n",
    "if escolhaDamoeda.lower() in [\"real\"]:\n",
    "    print(\"Convertendo moedas...\")\n",
    "    print(\"Dolar 0,20 Libras 0,50 Yenes 0,80\")\n",
    "elif escolhaDamoeda.lower() in [\"dolar\"]:\n",
    "    print(\"Convertendo moedas...\")\n",
    "    print(\"Real 5,0 Yenes 8,0 Libras 7,0\")\n",
    "elif escolhaDamoeda.lower() in [\"libras\"]:\n",
    "    print(\"Convertendo moedas...\")\n",
    "    print(\"Dolar 10,0 Real 5,0 Yenes 8,0\")\n",
    "elif escolhaDamoeda.lower() in [\"yenes\"]:\n",
    "    print(\"Convertendo moedas...\")\n",
    "    print(\"Dolar 11,0 Real 9,0 Libras 6,50 \")\n",
    "else:\n",
    "    print(\"Coloque uma moeda válida\")"
   ]
  },
  {
   "cell_type": "code",
   "execution_count": 6,
   "metadata": {},
   "outputs": [
    {
     "name": "stdout",
     "output_type": "stream",
     "text": [
      "l\n",
      "a\n",
      " \n",
      "p\n",
      "e\n",
      "s\n",
      "s\n",
      "a\n",
      "l\n",
      " \n",
      "m\n",
      "u\n",
      "i\n",
      "t\n",
      " \n",
      "l\n",
      "i\n",
      "n\n",
      "d\n"
     ]
    }
   ],
   "source": [
    "letra = \"ola pessoal muito lindo\"\n",
    "\n",
    "for i in letra:\n",
    "    if i == 'o':\n",
    "        continue\n",
    "    print(i)"
   ]
  },
  {
   "cell_type": "code",
   "execution_count": 7,
   "metadata": {},
   "outputs": [
    {
     "name": "stdout",
     "output_type": "stream",
     "text": [
      "b\n",
      "c\n",
      "r\n"
     ]
    }
   ],
   "source": [
    "letra = [\"b\",\"c\",\"r\",\"a\",\"s\"]\n",
    "\n",
    "for i in letra:\n",
    "    if i == \"a\":\n",
    "        break\n",
    "    print(i)"
   ]
  },
  {
   "cell_type": "code",
   "execution_count": 7,
   "metadata": {},
   "outputs": [
    {
     "name": "stdout",
     "output_type": "stream",
     "text": [
      "[2, 4, 6, 8, 10, 12, 14, 16, 18, 20]\n",
      "[1, 3, 5, 7, 9, 11, 13, 15, 17, 19]\n"
     ]
    }
   ],
   "source": [
    "listaPar = []\n",
    "listaImpar = []\n",
    "\n",
    "for x in range(1, 21):\n",
    "    diferenca = x % 2\n",
    "    if diferenca == 0:\n",
    "        listaPar.append(x)\n",
    "    else:\n",
    "        listaImpar.append(x)\n",
    "        \n",
    "print(listaPar)\n",
    "print(listaImpar)    "
   ]
  },
  {
   "cell_type": "code",
   "execution_count": 14,
   "metadata": {},
   "outputs": [
    {
     "name": "stdout",
     "output_type": "stream",
     "text": [
      "1\n",
      "3\n",
      "6\n",
      "10\n",
      "15\n"
     ]
    }
   ],
   "source": [
    "i = 0\n",
    "soma = 0\n",
    "listanum = []\n",
    "\n",
    "while i <= 4:\n",
    "    listanum.append (int(input(\"Coloque 5 valores de cada\")))\n",
    "    num = listanum[i]\n",
    "    soma += num \n",
    "    print(soma)\n",
    "    i += 1    "
   ]
  },
  {
   "cell_type": "code",
   "execution_count": 44,
   "metadata": {},
   "outputs": [
    {
     "name": "stdout",
     "output_type": "stream",
     "text": [
      "4\n",
      "[4]\n",
      "4\n",
      "[4, 4]\n",
      "4\n",
      "[4, 4, 4]\n",
      "5\n",
      "[4, 4, 4, 5]\n",
      "7\n",
      "[4, 4, 4, 5, 7]\n",
      "6\n",
      "[4, 4, 4, 5, 7, 6]\n",
      "3\n",
      "[4, 4, 4, 5, 7, 6, 3]\n"
     ]
    }
   ],
   "source": [
    "import random\n",
    "arrayCampo = []\n",
    "i = -1 \n",
    "\n",
    "def criarNumAle():\n",
    "    campo = random.randrange(1, 10)\n",
    "    print(campo)\n",
    "    if \n",
    "while True:\n",
    "    i = input()\n",
    "    criarNumAle()\n",
    "    print(arrayCampo)\n",
    "    if i == \"parar\":\n",
    "        break\n"
   ]
  },
  {
   "cell_type": "code",
   "execution_count": 53,
   "metadata": {},
   "outputs": [
    {
     "name": "stdout",
     "output_type": "stream",
     "text": [
      "par\n"
     ]
    }
   ],
   "source": [
    "def pi(a):\n",
    "    campa = a % 2\n",
    "    if campa == 0:\n",
    "        print(\"par\")\n",
    "    else:\n",
    "        print(\"inpar\")\n",
    "\n",
    "pi(226)"
   ]
  },
  {
   "cell_type": "code",
   "execution_count": 69,
   "metadata": {},
   "outputs": [
    {
     "data": {
      "text/plain": [
       "185"
      ]
     },
     "execution_count": 69,
     "metadata": {},
     "output_type": "execute_result"
    }
   ],
   "source": [
    "arrayDE = [10, 15, 25, 30, 15, 90]\n",
    "def soma(c):\n",
    "    \"\"\"Calcular os numeros dentro das arrays\"\"\"\n",
    "    somTotal = 0\n",
    "    for k in c:\n",
    "        somTotal += k \n",
    "    return somTotal\n",
    "soma(arrayDE)"
   ]
  },
  {
   "cell_type": "code",
   "execution_count": null,
   "metadata": {},
   "outputs": [],
   "source": [
    "def calcularMedia():\n",
    "    listInputs = []\n",
    "    resultado = []\n",
    "    def inputRequest(a):\n",
    "        \"\"\"Pedir valorem com inputs\"\"\"\n",
    "        for k in range(a):\n",
    "            num = int(input(\"Coloque um valor\"))\n",
    "            listInputs.append(num)\n",
    "            k += 1\n",
    "    inputRequest(5) \n",
    "    def plusNumInp(lista):\n",
    "        \"\"\"Pega qualquer lista e faz a soma de todos os elementos da lista\"\"\" \n",
    "        plusTotal = 0   \n",
    "        for i in lista:\n",
    "            plusTotal += i\n",
    "    def mediaNum():\n",
    "        \"\"\"Faz a media de todos os numeros inseridos\"\"\"\n",
    "        resultado.append(len(listInputs) / plusNumInp(listInputs))\n",
    "    print(mediaNum())\n",
    "\n",
    "calcularMedia()\n",
    "\n",
    "                           \n",
    "\n"
   ]
  }
 ],
 "metadata": {
  "kernelspec": {
   "display_name": "Python 3",
   "language": "python",
   "name": "python3"
  },
  "language_info": {
   "codemirror_mode": {
    "name": "ipython",
    "version": 3
   },
   "file_extension": ".py",
   "mimetype": "text/x-python",
   "name": "python",
   "nbconvert_exporter": "python",
   "pygments_lexer": "ipython3",
   "version": "3.11.4"
  },
  "orig_nbformat": 4
 },
 "nbformat": 4,
 "nbformat_minor": 2
}
